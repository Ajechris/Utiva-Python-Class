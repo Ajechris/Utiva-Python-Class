{
 "cells": [
  {
   "cell_type": "markdown",
   "id": "88848783",
   "metadata": {},
   "source": [
    "# Header 1\n",
    "\n",
    "## Header 2\n",
    "\n",
    "### Header 3\n",
    "\n",
    "#### Header 4\n",
    "\n",
    "##### Header 5\n",
    "\n",
    "[Google](https://www.google.com/)\n",
    "\n",
    "![Picture](btb.jpg)\n",
    "\n",
    "This is my notebebook."
   ]
  },
  {
   "cell_type": "markdown",
   "id": "d290faad",
   "metadata": {},
   "source": [
    "## Python Comment"
   ]
  },
  {
   "cell_type": "code",
   "execution_count": 4,
   "id": "4946b608",
   "metadata": {},
   "outputs": [
    {
     "name": "stdout",
     "output_type": "stream",
     "text": [
      "Hello World!\n"
     ]
    }
   ],
   "source": [
    "# print Hello world\n",
    "\n",
    "\n",
    "print('Hello World!')"
   ]
  },
  {
   "cell_type": "code",
   "execution_count": 5,
   "id": "7515cbd3",
   "metadata": {},
   "outputs": [
    {
     "name": "stdout",
     "output_type": "stream",
     "text": [
      "10\n"
     ]
    }
   ],
   "source": [
    "# Add 3 and 7\n",
    "print(3+7)"
   ]
  },
  {
   "cell_type": "markdown",
   "id": "6f71cec0",
   "metadata": {},
   "source": [
    "### Python Data types\n",
    "\n",
    "1. Text(string)\n",
    "2. Numeric data types (int, float, complex)\n",
    "3. Lists\n",
    "4. Tuples\n",
    "5. Dictionaries\n",
    "6. Boolean (True/False)"
   ]
  },
  {
   "cell_type": "code",
   "execution_count": 10,
   "id": "e7e69b98",
   "metadata": {},
   "outputs": [
    {
     "name": "stdout",
     "output_type": "stream",
     "text": [
      "This is a string\n",
      "5\n",
      "The dog's bone is outside\n"
     ]
    }
   ],
   "source": [
    "#string\n",
    "print('This is a string')\n",
    "print('5')\n",
    "print(\"The dog's bone is outside\")"
   ]
  },
  {
   "cell_type": "code",
   "execution_count": 11,
   "id": "21b9ca02",
   "metadata": {},
   "outputs": [
    {
     "name": "stdout",
     "output_type": "stream",
     "text": [
      "We are the so called \"Vikings\" from the north\n"
     ]
    }
   ],
   "source": [
    "#string (escape character)\n",
    "\n",
    "print(\"We are the so called \\\"Vikings\\\" from the north\")"
   ]
  },
  {
   "cell_type": "code",
   "execution_count": 15,
   "id": "db5d48b3",
   "metadata": {},
   "outputs": [
    {
     "name": "stdout",
     "output_type": "stream",
     "text": [
      "This is my sentence. \n",
      "This is a new line\n"
     ]
    }
   ],
   "source": [
    "#string (escape character)\n",
    "print('This is my sentence. \\nThis is a new line')"
   ]
  },
  {
   "cell_type": "markdown",
   "id": "347fcf4e",
   "metadata": {},
   "source": [
    "### Concatenation\n"
   ]
  },
  {
   "cell_type": "code",
   "execution_count": 33,
   "id": "4ed16d61",
   "metadata": {},
   "outputs": [
    {
     "name": "stdout",
     "output_type": "stream",
     "text": [
      "Christopher\n"
     ]
    }
   ],
   "source": [
    "#basic operations with stirng variables\n",
    "myname = 'Christopher'\n",
    "print(myname)"
   ]
  },
  {
   "cell_type": "code",
   "execution_count": 35,
   "id": "60807b2b",
   "metadata": {},
   "outputs": [
    {
     "name": "stdout",
     "output_type": "stream",
     "text": [
      "male\n"
     ]
    }
   ],
   "source": [
    "my_gender = 'male'\n",
    "print(my_gender)"
   ]
  },
  {
   "cell_type": "code",
   "execution_count": 36,
   "id": "1be5126e",
   "metadata": {},
   "outputs": [
    {
     "name": "stdout",
     "output_type": "stream",
     "text": [
      "Christopher is my name\n"
     ]
    }
   ],
   "source": [
    "print(myname + ' is my name')"
   ]
  },
  {
   "cell_type": "code",
   "execution_count": 37,
   "id": "69d81cff",
   "metadata": {},
   "outputs": [],
   "source": [
    "lastname = 'Ajewole'"
   ]
  },
  {
   "cell_type": "code",
   "execution_count": 40,
   "id": "bfb9042f",
   "metadata": {},
   "outputs": [],
   "source": [
    "age = 14\n"
   ]
  },
  {
   "cell_type": "markdown",
   "id": "16f05f60",
   "metadata": {},
   "source": [
    "### Casting"
   ]
  },
  {
   "cell_type": "code",
   "execution_count": 47,
   "id": "3e55a021",
   "metadata": {},
   "outputs": [
    {
     "name": "stdout",
     "output_type": "stream",
     "text": [
      "Hi, my name is Christopher Ajewole.\n",
      "I am 14years old.\n"
     ]
    }
   ],
   "source": [
    "print('Hi, my name is ' + myname + ' ' + lastname  + '.\\n'  + 'I am ' + str(age) + 'years old.' )"
   ]
  },
  {
   "cell_type": "code",
   "execution_count": 48,
   "id": "46e084bc",
   "metadata": {},
   "outputs": [],
   "source": [
    "weight = 4.5"
   ]
  },
  {
   "cell_type": "code",
   "execution_count": 49,
   "id": "f349208e",
   "metadata": {},
   "outputs": [
    {
     "name": "stdout",
     "output_type": "stream",
     "text": [
      "Hi my name is Christopher I weigh 4.5\n"
     ]
    }
   ],
   "source": [
    "print('Hi my name is ' + myname + ' I weigh ' + str(weight))"
   ]
  },
  {
   "cell_type": "code",
   "execution_count": 56,
   "id": "90936425",
   "metadata": {
    "scrolled": true
   },
   "outputs": [
    {
     "name": "stdout",
     "output_type": "stream",
     "text": [
      "<class 'float'>\n",
      "<class 'str'>\n",
      "<class 'int'>\n"
     ]
    }
   ],
   "source": [
    "#checking the data type of a variable\n",
    "\n",
    "print(type(weight))\n",
    "print(type(lastname))\n",
    "print(type(age))"
   ]
  },
  {
   "cell_type": "markdown",
   "id": "c922ea5e",
   "metadata": {},
   "source": [
    "### Formatting"
   ]
  },
  {
   "cell_type": "code",
   "execution_count": 61,
   "id": "43794919",
   "metadata": {},
   "outputs": [
    {
     "name": "stdout",
     "output_type": "stream",
     "text": [
      "Total is 283.5\n",
      " <class 'str'>\n"
     ]
    }
   ],
   "source": [
    "#string formatting\n",
    "\n",
    "qty = 5\n",
    "unit_price = 56.7\n",
    "statement = 'Total is '\n",
    "total = qty * unit_price\n",
    "\n",
    "\n",
    "print('Total is {}\\n'.format(total), type('Total is {}'.format(total)))"
   ]
  },
  {
   "cell_type": "code",
   "execution_count": null,
   "id": "edb4fdd9",
   "metadata": {},
   "outputs": [],
   "source": []
  },
  {
   "cell_type": "markdown",
   "id": "7f4d3fde",
   "metadata": {},
   "source": [
    "### Variables"
   ]
  },
  {
   "cell_type": "code",
   "execution_count": 16,
   "id": "267dcff9",
   "metadata": {},
   "outputs": [],
   "source": [
    "Var1 = 'Hello World'"
   ]
  },
  {
   "cell_type": "code",
   "execution_count": 18,
   "id": "45babd20",
   "metadata": {},
   "outputs": [
    {
     "name": "stdout",
     "output_type": "stream",
     "text": [
      "Hello World\n"
     ]
    }
   ],
   "source": [
    "print(Var1)"
   ]
  },
  {
   "cell_type": "code",
   "execution_count": 19,
   "id": "7acdd6fb",
   "metadata": {},
   "outputs": [],
   "source": [
    "Var = 43"
   ]
  },
  {
   "cell_type": "code",
   "execution_count": 22,
   "id": "776ac5e6",
   "metadata": {},
   "outputs": [
    {
     "name": "stdout",
     "output_type": "stream",
     "text": [
      "43\n"
     ]
    }
   ],
   "source": [
    "print(Var)"
   ]
  },
  {
   "cell_type": "code",
   "execution_count": 23,
   "id": "9515ea6e",
   "metadata": {},
   "outputs": [],
   "source": [
    "x=23"
   ]
  },
  {
   "cell_type": "code",
   "execution_count": 24,
   "id": "db5e0535",
   "metadata": {},
   "outputs": [
    {
     "name": "stdout",
     "output_type": "stream",
     "text": [
      "23\n"
     ]
    }
   ],
   "source": [
    "print(x)"
   ]
  },
  {
   "cell_type": "code",
   "execution_count": 25,
   "id": "04124965",
   "metadata": {},
   "outputs": [],
   "source": [
    "y = 10"
   ]
  },
  {
   "cell_type": "code",
   "execution_count": 30,
   "id": "9b8d8d3a",
   "metadata": {},
   "outputs": [
    {
     "name": "stdout",
     "output_type": "stream",
     "text": [
      "33\n",
      "230\n",
      "41426511213649\n",
      "0.43478260869565216\n",
      "13\n",
      "5.0\n"
     ]
    }
   ],
   "source": [
    "#basic operations with variables\n",
    "\n",
    "print(x+y)\n",
    "print(x*y)\n",
    "print(x**y) #raised to power\n",
    "print(y/x)\n",
    "print(x-y)\n",
    "print(25**0.5)"
   ]
  },
  {
   "cell_type": "code",
   "execution_count": 32,
   "id": "caca1503",
   "metadata": {},
   "outputs": [
    {
     "name": "stdout",
     "output_type": "stream",
     "text": [
      "33\n"
     ]
    }
   ],
   "source": [
    "z = x+y\n",
    "print(z)"
   ]
  },
  {
   "cell_type": "markdown",
   "id": "58f88093",
   "metadata": {},
   "source": [
    "### Lists\n",
    "Lists are denoted by '[]' \n"
   ]
  },
  {
   "cell_type": "code",
   "execution_count": 64,
   "id": "d010d940",
   "metadata": {},
   "outputs": [],
   "source": [
    "my_empty_list = []\n",
    "my_list = ['Ife', 5, '3.4', 4.5, True, False, [3, 'Ade']]"
   ]
  },
  {
   "cell_type": "code",
   "execution_count": 69,
   "id": "e8853107",
   "metadata": {},
   "outputs": [
    {
     "data": {
      "text/plain": [
       "4.5"
      ]
     },
     "execution_count": 69,
     "metadata": {},
     "output_type": "execute_result"
    }
   ],
   "source": [
    "# Accessing a lists, Items in a list have an index position starting from zero(0)\n",
    "\n",
    "my_list[3]\n"
   ]
  },
  {
   "cell_type": "code",
   "execution_count": 68,
   "id": "b193a71c",
   "metadata": {},
   "outputs": [
    {
     "data": {
      "text/plain": [
       "[3, 'Ade']"
      ]
     },
     "execution_count": 68,
     "metadata": {},
     "output_type": "execute_result"
    }
   ],
   "source": [
    "my_list[-1]"
   ]
  },
  {
   "cell_type": "code",
   "execution_count": 70,
   "id": "b8714f0e",
   "metadata": {},
   "outputs": [
    {
     "data": {
      "text/plain": [
       "'Ade'"
      ]
     },
     "execution_count": 70,
     "metadata": {},
     "output_type": "execute_result"
    }
   ],
   "source": [
    "my_list[6][1]"
   ]
  },
  {
   "cell_type": "code",
   "execution_count": 7,
   "id": "cf1795b7",
   "metadata": {
    "scrolled": false
   },
   "outputs": [
    {
     "name": "stdout",
     "output_type": "stream",
     "text": [
      "3\n"
     ]
    }
   ],
   "source": [
    "#int(integer)\n",
    "print(3)"
   ]
  },
  {
   "cell_type": "code",
   "execution_count": 8,
   "id": "6347532e",
   "metadata": {},
   "outputs": [
    {
     "name": "stdout",
     "output_type": "stream",
     "text": [
      "3.4\n"
     ]
    }
   ],
   "source": [
    "#float(decimal)\n",
    "print(3.4)"
   ]
  },
  {
   "cell_type": "code",
   "execution_count": null,
   "id": "29fb3361",
   "metadata": {},
   "outputs": [],
   "source": [
    "#Boolean\n",
    "#print(True) is not equal to print('True')"
   ]
  }
 ],
 "metadata": {
  "kernelspec": {
   "display_name": "Python 3",
   "language": "python",
   "name": "python3"
  },
  "language_info": {
   "codemirror_mode": {
    "name": "ipython",
    "version": 3
   },
   "file_extension": ".py",
   "mimetype": "text/x-python",
   "name": "python",
   "nbconvert_exporter": "python",
   "pygments_lexer": "ipython3",
   "version": "3.8.8"
  }
 },
 "nbformat": 4,
 "nbformat_minor": 5
}
